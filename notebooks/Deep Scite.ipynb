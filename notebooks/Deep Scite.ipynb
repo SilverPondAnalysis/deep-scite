{
 "cells": [
  {
   "cell_type": "markdown",
   "metadata": {},
   "source": [
    "# Experimenting with Deep Scite"
   ]
  },
  {
   "cell_type": "markdown",
   "metadata": {},
   "source": [
    "Recall the model, for reference."
   ]
  },
  {
   "cell_type": "markdown",
   "metadata": {},
   "source": [
    "![](deep-scite-model-1.png)"
   ]
  },
  {
   "cell_type": "code",
   "execution_count": 1,
   "metadata": {
    "collapsed": false
   },
   "outputs": [],
   "source": [
    "import os\n",
    "import tensorflow as tf\n",
    "from deepscite import model\n",
    "from deepscite import utils\n",
    "from deepscite import train\n",
    "import ruamel.yaml\n",
    "from IPython.core.display import display, HTML"
   ]
  },
  {
   "cell_type": "code",
   "execution_count": 2,
   "metadata": {
    "collapsed": false
   },
   "outputs": [],
   "source": [
    "base_dir = \"../\"\n",
    "data_dir = os.path.join(base_dir, \"data/noon/\")"
   ]
  },
  {
   "cell_type": "markdown",
   "metadata": {},
   "source": [
    "Let's define the parameters we want to use during training/inference."
   ]
  },
  {
   "cell_type": "code",
   "execution_count": 3,
   "metadata": {
    "collapsed": true
   },
   "outputs": [],
   "source": [
    "# Update the `conf` global state that we use in various places in the model.\n",
    "conf = tf.app.flags.FLAGS\n",
    "\n",
    "conf.embedded_word_size  = 250\n",
    "conf.word_vector_size    = 500\n",
    "conf.conv_size           = 3\n",
    "conf.conv_stride         = 1\n",
    "conf.conv_features       = 1\n",
    "conf.iterations          = 100\n",
    "conf.learning_rate       = 1e-3\n",
    "conf.weights_reg_scale   = 1e-6\n",
    "conf.activity_reg_scale  = 1e-6\n",
    "conf.embedding_reg_scale = 1e-6\n",
    "conf.save_path           = os.path.join(base_dir, \"./checkpoints/noon\")\n",
    "conf.log_path            = \"/tmp/tf-checkpoints/deepscite-noon\"\n",
    "conf.data_dir            = data_dir\n",
    "\n",
    "checkpoint_path    = os.path.join(base_dir, \"checkpoints/noon/\")"
   ]
  },
  {
   "cell_type": "markdown",
   "metadata": {},
   "source": [
    "## Training Step"
   ]
  },
  {
   "cell_type": "code",
   "execution_count": 4,
   "metadata": {
    "collapsed": false
   },
   "outputs": [
    {
     "name": "stdout",
     "output_type": "stream",
     "text": [
      "Initialising new model...\n",
      "WARNING:tensorflow:From /home/noon/dev/deep-scite/deepscite/train.py:181 in train.: initialize_all_variables (from tensorflow.python.ops.variables) is deprecated and will be removed after 2017-03-02.\n",
      "Instructions for updating:\n",
      "Use `tf.global_variables_initializer` instead.\n",
      "Iteration #0, Loss: 0.6931469440460205, α: 0.5.\n",
      "Checkpointed: /tmp/tf-checkpoints/deepscite-noon/def/checkpoint-0.\n",
      "Iteration #0, Validation-set accuracy: 0.4659999907016754.\n",
      "Iteration #10, Loss: 2.2052810192108154, α: 0.500728964805603.\n",
      "Checkpointed: /tmp/tf-checkpoints/deepscite-noon/def/checkpoint-10.\n",
      "Iteration #10, Validation-set accuracy: 0.7639999985694885.\n",
      "Iteration #20, Loss: 1.027888536453247, α: 0.5028527975082397.\n",
      "Checkpointed: /tmp/tf-checkpoints/deepscite-noon/def/checkpoint-20.\n",
      "Iteration #20, Validation-set accuracy: 0.8180000185966492.\n",
      "Iteration #30, Loss: 0.7648000121116638, α: 0.505841851234436.\n",
      "Checkpointed: /tmp/tf-checkpoints/deepscite-noon/def/checkpoint-30.\n",
      "Iteration #30, Validation-set accuracy: 0.8240000009536743.\n",
      "Iteration #40, Loss: 0.6196095943450928, α: 0.5092655420303345.\n",
      "Checkpointed: /tmp/tf-checkpoints/deepscite-noon/def/checkpoint-40.\n",
      "Iteration #40, Validation-set accuracy: 0.8399999737739563.\n",
      "Iteration #50, Loss: 0.5293480753898621, α: 0.5129210352897644.\n",
      "Checkpointed: /tmp/tf-checkpoints/deepscite-noon/def/checkpoint-50.\n",
      "Iteration #50, Validation-set accuracy: 0.8240000009536743.\n",
      "Iteration #60, Loss: 0.4793636202812195, α: 0.5165561437606812.\n",
      "Checkpointed: /tmp/tf-checkpoints/deepscite-noon/def/checkpoint-60.\n",
      "Iteration #60, Validation-set accuracy: 0.8259999752044678.\n",
      "Iteration #70, Loss: 0.4313983619213104, α: 0.5197137594223022.\n",
      "Checkpointed: /tmp/tf-checkpoints/deepscite-noon/def/checkpoint-70.\n",
      "Iteration #70, Validation-set accuracy: 0.8339999914169312.\n",
      "Iteration #80, Loss: 0.40427014231681824, α: 0.5222272276878357.\n",
      "Checkpointed: /tmp/tf-checkpoints/deepscite-noon/def/checkpoint-80.\n",
      "Iteration #80, Validation-set accuracy: 0.8299999833106995.\n",
      "Iteration #90, Loss: 0.40079185366630554, α: 0.5244918465614319.\n",
      "Checkpointed: /tmp/tf-checkpoints/deepscite-noon/def/checkpoint-90.\n",
      "Iteration #90, Validation-set accuracy: 0.8640000224113464.\n",
      "Iteration #100, Loss: 0.37984904646873474, α: 0.5263380408287048.\n",
      "Checkpointed: /tmp/tf-checkpoints/deepscite-noon/def/checkpoint-100.\n",
      "Iteration #100, Validation-set accuracy: 0.8640000224113464.\n"
     ]
    }
   ],
   "source": [
    "conf.minibatch_size = 500\n",
    "tf.reset_default_graph()\n",
    "train.main(_)"
   ]
  },
  {
   "cell_type": "markdown",
   "metadata": {},
   "source": [
    "Let's feed in a single paper (title, abstract) into DeepScite and see what it thinks."
   ]
  },
  {
   "cell_type": "markdown",
   "metadata": {},
   "source": [
    "## Inference step"
   ]
  },
  {
   "cell_type": "markdown",
   "metadata": {},
   "source": [
    "We need to convert the text into the format needed by the model. Each word is mapped to the index of the vector in the word embedding matrix (i.e. it's index in the `vocab.txt` file.)"
   ]
  },
  {
   "cell_type": "markdown",
   "metadata": {},
   "source": [
    "![](deep-scite-model-with-vectors.png)"
   ]
  },
  {
   "cell_type": "code",
   "execution_count": 5,
   "metadata": {
    "collapsed": true
   },
   "outputs": [],
   "source": [
    "vocab_list = utils.load_vocabulary(data_dir)\n",
    "vocab_dict = {}\n",
    "for k, w in enumerate(vocab_list):\n",
    "    vocab_dict[w] = k"
   ]
  },
  {
   "cell_type": "code",
   "execution_count": 6,
   "metadata": {
    "collapsed": false
   },
   "outputs": [],
   "source": [
    "def get_wordids_for(s):\n",
    "    r = [vocab_dict[w] for w in utils.to_words(s) if w in vocab_dict ]\n",
    "    if r == []:\n",
    "        raise Exception(\"Found no words at all!\")\n",
    "    return \" \".join(map(str, r))\n",
    "\n",
    "def words_to_html(words, activations, threshold=5):\n",
    "    good_words = []\n",
    "    bad_words  = []\n",
    "\n",
    "    elts = []\n",
    "\n",
    "    for k, w in enumerate(words):\n",
    "        activation = round(float(activations[k]), 2)\n",
    "\n",
    "        style = \"\"\n",
    "        if activation > threshold:\n",
    "            good_words.append(w)\n",
    "            style = \"color: blue !important;\"\n",
    "\n",
    "        if activation < -threshold:\n",
    "            bad_words.append(w)\n",
    "            style = \"color: red !important;\"\n",
    "\n",
    "        elts.append(\"<span style='{}' title='({},{})'>{}</span>\".format(\n",
    "                style,\n",
    "                activation,\n",
    "                round(float(activations[k]), 2), w))\n",
    "    \n",
    "    return \" \".join(elts)"
   ]
  },
  {
   "cell_type": "markdown",
   "metadata": {
    "collapsed": true
   },
   "source": [
    "## Load the model and emit a prediction"
   ]
  },
  {
   "cell_type": "code",
   "execution_count": 10,
   "metadata": {
    "collapsed": false
   },
   "outputs": [],
   "source": [
    "def infer(title, abstract):\n",
    "    inputs = [ {\"id\": \"\", \n",
    "                \"wordset_1_ids\": get_wordids_for(title), \n",
    "                \"wordset_2_ids\": get_wordids_for(abstract) } ]\n",
    "\n",
    "    m = model.JointEmbeddingModelForBinaryClassification(conf.embedded_word_size)\n",
    "\n",
    "    # TensorFlow is uses a lot of global state. As a result, if we \n",
    "    # wish to re-run this cell many times, we need to have this\n",
    "    # statement here to ensure nothing is kept over.\n",
    "    tf.reset_default_graph()\n",
    "\n",
    "    # We're only inputting one piece of data - a single paper.\n",
    "    conf.minibatch_size = 1\n",
    "\n",
    "    with tf.Session() as sess:\n",
    "\n",
    "        model_params = m.graph(\n",
    "            conf.minibatch_size,\n",
    "            len(vocab_list),\n",
    "            conf.word_vector_size,\n",
    "            conf.conv_size,\n",
    "            conf.conv_stride,\n",
    "            conf.conv_features\n",
    "        )\n",
    "\n",
    "        # Load the trained weights\n",
    "        saver = tf.train.Saver()\n",
    "        checkpoint = tf.train.latest_checkpoint(checkpoint_path)\n",
    "\n",
    "        if not checkpoint:\n",
    "            raise Exception(\"Couldn't find checkpoint at: {}\".format(checkpoint_path))\n",
    "\n",
    "        saver.restore(sess, checkpoint)\n",
    "\n",
    "        X1, X2, _, M1, M2, S1, S2, subset = train.get_datapoints(inputs)\n",
    "        data = {model_params.wordset_1: X1,\n",
    "                model_params.wordset_2: X2,\n",
    "                model_params.wordset_1_masks: M1,\n",
    "                model_params.wordset_2_masks: M2,\n",
    "                model_params.wordset_1_lengths: S1,\n",
    "                model_params.wordset_2_lengths: S2}\n",
    "\n",
    "\n",
    "        # Calculate the recommendations\n",
    "        set1_activations, set2_activations, final_probs, alpha = sess.run([\n",
    "            tf.squeeze(model_params.conv_wordset_1_activity, [2,3]),\n",
    "            tf.squeeze(model_params.conv_wordset_2_activity, [2,3]),\n",
    "            model_params.final_probs,\n",
    "            model_params.alpha], \n",
    "            feed_dict=data)\n",
    "    \n",
    "    return set1_activations[0], set2_activations[0], final_probs[0], alpha"
   ]
  },
  {
   "cell_type": "markdown",
   "metadata": {},
   "source": [
    "## With what probability would Noon *scite* this paper?\n",
    "\n",
    "Enter candidate tiles and abstracts below. You can find inspiration over at [SciRate](https://scirate.com)."
   ]
  },
  {
   "cell_type": "code",
   "execution_count": 37,
   "metadata": {
    "collapsed": true
   },
   "outputs": [],
   "source": [
    "# Very good\n",
    "title = r\"\"\"\n",
    "Universal Quantum Hamiltonians\n",
    "\"\"\"\n",
    "\n",
    "abstract = r\"\"\"\n",
    "Quantum many-body systems exhibit a bewilderingly\n",
    "diverse range of behaviours. Here, we prove that\n",
    "all the physics of every other quantum many-body\n",
    "system is replicated in certain simple, \"universal\"\n",
    "quantum spin-lattice models. We first characterise \n",
    "precisely and in full generality what it means for \n",
    "one quantum many-body system to replicate the entire\n",
    "physics of another. We then fully classify two-qubit\n",
    "interactions, determining which are universal in this\n",
    "very strong sense and showing that certain simple \n",
    "spin-lattice models are already universal. Examples\n",
    "include the Heisenberg and XY models on a 2D square \n",
    "lattice (with non-uniform coupling strengths). This\n",
    "shows that locality, symmetry, and spatial dimension \n",
    "need not constrain the physics of quantum many-body systems.\n",
    "Our results put the practical field of analogue Hamiltonian\n",
    "simulation on a rigorous footing and show that far simpler\n",
    "systems than previously thought may be viable simulators.\n",
    "We also take a first step towards justifying why\n",
    "error correction may not be required for this application\n",
    "of quantum information technology.\n",
    "\"\"\""
   ]
  },
  {
   "cell_type": "code",
   "execution_count": 38,
   "metadata": {
    "collapsed": false
   },
   "outputs": [
    {
     "name": "stdout",
     "output_type": "stream",
     "text": [
      "Scite Probability: 99.80%\n"
     ]
    }
   ],
   "source": [
    "set1_activations, set2_activations, final_probs, alpha = infer(title, abstract)\n",
    "print(\"Scite Probability: {0:2.2f}%\".format(final_probs*100))"
   ]
  },
  {
   "cell_type": "markdown",
   "metadata": {},
   "source": [
    "## Why?"
   ]
  },
  {
   "cell_type": "code",
   "execution_count": 39,
   "metadata": {
    "collapsed": false
   },
   "outputs": [
    {
     "data": {
      "text/html": [
       "<span style='color: blue !important;' title='(9.0,9.0)'>universal</span> <span style='color: blue !important;' title='(13.01,13.01)'>quantum</span> <span style='color: blue !important;' title='(10.28,10.28)'>hamiltonians</span>"
      ],
      "text/plain": [
       "<IPython.core.display.HTML object>"
      ]
     },
     "metadata": {},
     "output_type": "display_data"
    },
    {
     "data": {
      "text/html": [
       "<span style='color: blue !important;' title='(8.82,8.82)'>quantum</span> <span style='color: blue !important;' title='(9.13,9.13)'>many-body</span> <span style='' title='(1.63,1.63)'>systems</span> <span style='' title='(-0.04,-0.04)'>exhibit</span> <span style='' title='(0.62,0.62)'>a</span> <span style='' title='(-0.48,-0.48)'>bewilderingly</span> <span style='' title='(-1.84,-1.84)'>diverse</span> <span style='' title='(-2.45,-2.45)'>range</span> <span style='' title='(-1.07,-1.07)'>of</span> <span style='' title='(1.96,1.96)'>behaviours</span> <span style='' title='(1.8,1.8)'>.</span> <span style='' title='(2.58,2.58)'>here</span> <span style='' title='(0.07,0.07)'>,</span> <span style='' title='(0.54,0.54)'>we</span> <span style='' title='(1.31,1.31)'>prove</span> <span style='' title='(1.18,1.18)'>that</span> <span style='' title='(0.82,0.82)'>all</span> <span style='' title='(-1.52,-1.52)'>the</span> <span style='' title='(-1.01,-1.01)'>physics</span> <span style='' title='(-0.84,-0.84)'>of</span> <span style='color: blue !important;' title='(7.1,7.1)'>every</span> <span style='color: blue !important;' title='(9.39,9.39)'>other</span> <span style='color: blue !important;' title='(8.25,8.25)'>quantum</span> <span style='' title='(0.77,0.77)'>many-body</span> <span style='' title='(-0.79,-0.79)'>system</span> <span style='' title='(-1.92,-1.92)'>is</span> <span style='' title='(-1.63,-1.63)'>replicated</span> <span style='' title='(-1.94,-1.94)'>in</span> <span style='' title='(0.13,0.13)'>certain</span> <span style='' title='(1.44,1.44)'>simple</span> <span style='' title='(4.76,4.76)'>,</span> <span style='color: blue !important;' title='(5.96,5.96)'>``</span> <span style='color: blue !important;' title='(11.42,11.42)'>universal</span> <span style='color: blue !important;' title='(8.14,8.14)'>''</span> <span style='color: blue !important;' title='(7.77,7.77)'>quantum</span> <span style='' title='(0.41,0.41)'>spin-lattice</span> <span style='' title='(1.04,1.04)'>models</span> <span style='' title='(0.02,0.02)'>.</span> <span style='' title='(0.33,0.33)'>we</span> <span style='' title='(0.11,0.11)'>first</span> <span style='' title='(-0.54,-0.54)'>characterise</span> <span style='' title='(-2.39,-2.39)'>precisely</span> <span style='' title='(-2.73,-2.73)'>and</span> <span style='' title='(-1.54,-1.54)'>in</span> <span style='' title='(2.47,2.47)'>full</span> <span style='' title='(2.98,2.98)'>generality</span> <span style='' title='(0.96,0.96)'>what</span> <span style='' title='(-1.04,-1.04)'>it</span> <span style='' title='(-0.85,-0.85)'>means</span> <span style='color: blue !important;' title='(7.65,7.65)'>for</span> <span style='color: blue !important;' title='(9.45,9.45)'>one</span> <span style='color: blue !important;' title='(8.25,8.25)'>quantum</span> <span style='' title='(1.28,1.28)'>many-body</span> <span style='' title='(0.16,0.16)'>system</span> <span style='' title='(0.13,0.13)'>to</span> <span style='' title='(0.19,0.19)'>replicate</span> <span style='' title='(-0.18,-0.18)'>the</span> <span style='' title='(-0.47,-0.47)'>entire</span> <span style='' title='(-0.91,-0.91)'>physics</span> <span style='' title='(-1.59,-1.59)'>of</span> <span style='' title='(-0.02,-0.02)'>another</span> <span style='' title='(0.43,0.43)'>.</span> <span style='' title='(2.37,2.37)'>we</span> <span style='' title='(2.02,2.02)'>then</span> <span style='' title='(3.25,3.25)'>fully</span> <span style='' title='(0.55,0.55)'>classify</span> <span style='' title='(0.61,0.61)'>two-qubit</span> <span style='' title='(-1.54,-1.54)'>interactions</span> <span style='' title='(-0.47,-0.47)'>,</span> <span style='' title='(-1.08,-1.08)'>determining</span> <span style='' title='(2.71,2.71)'>which</span> <span style='' title='(1.08,1.08)'>are</span> <span style='' title='(1.78,1.78)'>universal</span> <span style='' title='(-2.0,-2.0)'>in</span> <span style='' title='(-0.83,-0.83)'>this</span> <span style='' title='(-1.59,-1.59)'>very</span> <span style='' title='(-1.96,-1.96)'>strong</span> <span style='' title='(-0.35,-0.35)'>sense</span> <span style='' title='(0.76,0.76)'>and</span> <span style='' title='(1.59,1.59)'>showing</span> <span style='' title='(0.66,0.66)'>that</span> <span style='' title='(-0.21,-0.21)'>certain</span> <span style='' title='(0.67,0.67)'>simple</span> <span style='' title='(0.27,0.27)'>spin-lattice</span> <span style='' title='(0.44,0.44)'>models</span> <span style='' title='(2.76,2.76)'>are</span> <span style='' title='(3.07,3.07)'>already</span> <span style='' title='(3.78,3.78)'>universal</span> <span style='' title='(1.01,1.01)'>.</span> <span style='' title='(0.62,0.62)'>examples</span> <span style='' title='(-0.85,-0.85)'>include</span> <span style='' title='(-2.26,-2.26)'>the</span> <span style='' title='(-2.0,-2.0)'>heisenberg</span> <span style='' title='(-0.42,-0.42)'>and</span> <span style='' title='(-0.42,-0.42)'>xy</span> <span style='' title='(0.22,0.22)'>models</span> <span style='' title='(-1.61,-1.61)'>on</span> <span style='' title='(-0.95,-0.95)'>a</span> <span style='' title='(-1.4,-1.4)'>2d</span> <span style='' title='(-1.26,-1.26)'>square</span> <span style='' title='(-1.81,-1.81)'>lattice</span> <span style='' title='(-1.67,-1.67)'>(</span> <span style='' title='(-3.94,-3.94)'>with</span> <span style='' title='(-3.98,-3.98)'>non-uniform</span> <span style='' title='(-4.74,-4.74)'>coupling</span> <span style='' title='(-1.85,-1.85)'>strengths</span> <span style='' title='(-0.91,-0.91)'>)</span> <span style='' title='(-1.07,-1.07)'>.</span> <span style='' title='(-0.14,-0.14)'>this</span> <span style='' title='(0.92,0.92)'>shows</span> <span style='' title='(2.23,2.23)'>that</span> <span style='' title='(1.06,1.06)'>locality</span> <span style='' title='(-0.22,-0.22)'>,</span> <span style='' title='(-1.14,-1.14)'>symmetry</span> <span style='' title='(-1.04,-1.04)'>,</span> <span style='' title='(-2.05,-2.05)'>and</span> <span style='' title='(0.18,0.18)'>spatial</span> <span style='' title='(2.33,2.33)'>dimension</span> <span style='' title='(2.5,2.5)'>need</span> <span style='' title='(0.17,0.17)'>not</span> <span style='' title='(-1.26,-1.26)'>constrain</span> <span style='' title='(-1.52,-1.52)'>the</span> <span style='color: blue !important;' title='(5.98,5.98)'>physics</span> <span style='color: blue !important;' title='(7.67,7.67)'>of</span> <span style='color: blue !important;' title='(9.13,9.13)'>quantum</span> <span style='' title='(1.74,1.74)'>many-body</span> <span style='' title='(1.25,1.25)'>systems</span> <span style='' title='(0.64,0.64)'>.</span> <span style='' title='(1.28,1.28)'>our</span> <span style='' title='(-0.86,-0.86)'>results</span> <span style='' title='(1.25,1.25)'>put</span> <span style='' title='(-1.36,-1.36)'>the</span> <span style='' title='(-1.79,-1.79)'>practical</span> <span style='' title='(-3.8,-3.8)'>field</span> <span style='' title='(-0.6,-0.6)'>of</span> <span style='' title='(2.24,2.24)'>analogue</span> <span style='' title='(1.67,1.67)'>hamiltonian</span> <span style='' title='(1.02,1.02)'>simulation</span> <span style='' title='(-0.52,-0.52)'>on</span> <span style='' title='(-0.33,-0.33)'>a</span> <span style='' title='(-1.31,-1.31)'>rigorous</span> <span style='' title='(-0.67,-0.67)'>footing</span> <span style='' title='(0.76,0.76)'>and</span> <span style='' title='(2.25,2.25)'>show</span> <span style='' title='(2.53,2.53)'>that</span> <span style='' title='(2.13,2.13)'>far</span> <span style='' title='(2.3,2.3)'>simpler</span> <span style='' title='(0.77,0.77)'>systems</span> <span style='' title='(1.66,1.66)'>than</span> <span style='' title='(0.83,0.83)'>previously</span> <span style='' title='(1.75,1.75)'>thought</span> <span style='' title='(0.23,0.23)'>may</span> <span style='' title='(1.65,1.65)'>be</span> <span style='' title='(0.84,0.84)'>viable</span> <span style='' title='(1.62,1.62)'>simulators</span> <span style='' title='(-0.02,-0.02)'>.</span> <span style='' title='(2.02,2.02)'>we</span> <span style='' title='(1.81,1.81)'>also</span> <span style='' title='(1.87,1.87)'>take</span> <span style='' title='(1.04,1.04)'>a</span> <span style='' title='(2.78,2.78)'>first</span> <span style='' title='(3.55,3.55)'>step</span> <span style='' title='(3.61,3.61)'>towards</span> <span style='' title='(4.91,4.91)'>justifying</span> <span style='color: blue !important;' title='(5.88,5.88)'>why</span> <span style='' title='(4.85,4.85)'>error</span> <span style='' title='(3.15,3.15)'>correction</span> <span style='' title='(2.29,2.29)'>may</span> <span style='' title='(3.45,3.45)'>not</span> <span style='' title='(2.01,2.01)'>be</span> <span style='' title='(1.75,1.75)'>required</span> <span style='' title='(-0.16,-0.16)'>for</span> <span style='' title='(-1.55,-1.55)'>this</span> <span style='' title='(4.85,4.85)'>application</span> <span style='color: blue !important;' title='(9.89,9.89)'>of</span> <span style='color: blue !important;' title='(12.34,12.34)'>quantum</span> <span style='' title='(4.99,4.99)'>information</span> <span style='' title='(0.85,0.85)'>technology</span> <span style='' title='(-0.0,-0.0)'>.</span>"
      ],
      "text/plain": [
       "<IPython.core.display.HTML object>"
      ]
     },
     "metadata": {},
     "output_type": "display_data"
    }
   ],
   "source": [
    "import numpy as np\n",
    "\n",
    "nonzero   = [abs(x) for x in set1_activations if abs(x) > 0]\n",
    "threshold = np.mean(nonzero) / 2 \n",
    "\n",
    "title_words    = utils.to_words(title)\n",
    "abstract_words = utils.to_words(abstract)\n",
    "\n",
    "display(HTML(words_to_html(title_words,    set1_activations, threshold)))\n",
    "display(HTML(words_to_html(abstract_words, set2_activations, threshold)))"
   ]
  },
  {
   "cell_type": "markdown",
   "metadata": {},
   "source": [
    "## Weighting parameter\n",
    "\n",
    "$$\n",
    "    p = \\alpha * \\text{titles} + (1-\\alpha) * \\text{abstracts}\n",
    "$$"
   ]
  },
  {
   "cell_type": "code",
   "execution_count": 40,
   "metadata": {
    "collapsed": false
   },
   "outputs": [
    {
     "data": {
      "text/plain": [
       "0.52650487"
      ]
     },
     "execution_count": 40,
     "metadata": {},
     "output_type": "execute_result"
    }
   ],
   "source": [
    "alpha"
   ]
  },
  {
   "cell_type": "code",
   "execution_count": null,
   "metadata": {
    "collapsed": true
   },
   "outputs": [],
   "source": []
  }
 ],
 "metadata": {
  "kernelspec": {
   "display_name": "Python 3",
   "language": "python",
   "name": "python3"
  },
  "language_info": {
   "codemirror_mode": {
    "name": "ipython",
    "version": 3
   },
   "file_extension": ".py",
   "mimetype": "text/x-python",
   "name": "python",
   "nbconvert_exporter": "python",
   "pygments_lexer": "ipython3",
   "version": "3.5.2"
  }
 },
 "nbformat": 4,
 "nbformat_minor": 0
}
